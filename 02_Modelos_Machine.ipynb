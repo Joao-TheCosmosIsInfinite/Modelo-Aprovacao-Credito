{
 "cells": [
  {
   "cell_type": "markdown",
   "id": "opponent-majority",
   "metadata": {},
   "source": [
    "# Case - Modelo Preditivo para aprovacao de credito\n",
    "\n",
    "## 02 - Submeter os dados aos modelos de Machine Learning\n",
    "<p>\n",
    "Modelos de score de crédito calculam a probabilidade de inadimplência e são uma das\n",
    "principais ferramentas utilizadas por diversas empresas para aprovar ou negar um crédito.\n",
    "O objetivo deste desafio é criar um modelo preditivo calculando a probabilidade de\n",
    "inadimplência de cada novo pedido de crédito.\n",
    "    \n",
    "    \n",
    "<b>Dados</b>:\n",
    "Cada linha representa um cliente e as colunas representam os dados (informações) desses\n",
    "clientes.\n",
    "A variável resposta é a coluna inadimplente, que indica se o tomador veio a se tornar\n",
    "inadimplente(1) ou não(0).\n",
    "    \n",
    "    \n",
    "<b>As variáveis da base de dados são descritas abaixo:</b>\n",
    "    <ul>\n",
    "        <li>idade: A idade do cliente</li>\n",
    "        <li>numero_de_dependentes: O número de pessoas dependentes do cliente.</li>\n",
    "        <li>salario_mensal: Salário mensal do cliente.</li>\n",
    "        <li>numero_emprestimos_imobiliarios: Quantidade de empréstimos imobiliários que o\n",
    "cliente possui em aberto.</li>\n",
    "        <li>util_linhas_inseguras: Quanto que o cliente está usando, relativamente ao limite\n",
    "dele, de linhas de crédito que não são seguradas por qualquer bem do tomador\n",
    "e.g: imoveis, carros etc.</li>\n",
    "        <li>vezes_passou_de_30_59_dias: Número de vezes que o cliente atrasou, entre 30\n",
    "e 59 dias, o pagamento de um empréstimo.</li>\n",
    "        <li>razao_debito: Razão entre as dívidas e o patrimônio do tomador. razão débito =\n",
    "Dividas/Patrimônio</li>\n",
    "        <li>numero_linhas_crdto_aberto: Número de empréstimos em aberto pelo cliente.</li>\n",
    "        <li>numero_de_vezes_que_passou_60_89_dias: Número de vezes que o cliente\n",
    "atrasou, entre 60 e 89 dias, o pagamento de um empréstimo.</li>        \n",
    "    </ul>\n",
    "    \n",
    "Obs: Estes dados foram retirados de terceiros, portanto é possível que existam\n",
    "incoerências, o que é perfeitamente comum em dados reais.\n",
    "\n",
    "\n",
    "<b>Objetivo:</b>\n",
    "Construir qualquer modelo preditivo utilizando o arquivo treino.csv.\n",
    "Utilize este modelo para gerar as previsões na base teste.csv, inserindo uma nova coluna\n",
    "na tabela de dados do arquivo teste.csv que contenha as previsões e nomeie esta coluna\n",
    "com o nome \"inadimplente\".\n",
    "Espera-se que não seja necessário mais que um dia para a resolução deste problema.\n",
    "\n",
    "</p>\n",
    "\n",
    "<p>\n",
    "    <b>Author: </b>Joao Paulo Ribeiro dos Santos<br>\n",
    "    <b>E-mail: </b>joao1615@gmail.com  <b>ou</b>  joao1615@faculdadefia.edu.br<br>\n",
    "    <b>Telefone: </b> (11)9 6816-5227\n",
    "</p>"
   ]
  },
  {
   "cell_type": "code",
   "execution_count": 29,
   "id": "requested-anatomy",
   "metadata": {},
   "outputs": [],
   "source": [
    "import numpy as np\n",
    "import pandas as pd\n",
    "import matplotlib.pyplot as plt\n",
    "import seaborn as sns\n",
    "\n",
    "import warnings\n",
    "warnings.filterwarnings(\"ignore\")\n",
    "\n",
    "%matplotlib inline"
   ]
  },
  {
   "cell_type": "code",
   "execution_count": 30,
   "id": "muslim-microphone",
   "metadata": {},
   "outputs": [
    {
     "name": "stdout",
     "output_type": "stream",
     "text": [
      "Author: Joao Paulo\n",
      "\n",
      "seaborn   : 0.11.1\n",
      "pandas    : 1.2.1\n",
      "numpy     : 1.19.2\n",
      "matplotlib: 3.3.2\n",
      "\n"
     ]
    }
   ],
   "source": [
    "# Versões dos pacotes usados neste jupyter notebook\n",
    "%reload_ext watermark\n",
    "%watermark -a \"Joao Paulo\" --iversions"
   ]
  },
  {
   "cell_type": "code",
   "execution_count": 34,
   "id": "developed-difficulty",
   "metadata": {},
   "outputs": [],
   "source": [
    "# Importacao dos datasets\n",
    "df_train = pd.read_csv('processed_data/train_treated_v2.csv')\n",
    "df_test = pd.read_csv('processed_data/test_treated_v2.csv')"
   ]
  },
  {
   "cell_type": "code",
   "execution_count": 35,
   "id": "characteristic-crisis",
   "metadata": {},
   "outputs": [
    {
     "data": {
      "text/plain": [
       "util_linhas_inseguras                    float64\n",
       "idade                                      int64\n",
       "vezes_passou_de_30_59_dias                 int64\n",
       "razao_debito                             float64\n",
       "salario_mensal                           float64\n",
       "numero_linhas_crdto_aberto                 int64\n",
       "numero_vezes_passou_90_dias                int64\n",
       "numero_emprestimos_imobiliarios            int64\n",
       "numero_de_vezes_que_passou_60_89_dias      int64\n",
       "numero_de_dependentes                    float64\n",
       "inadimplente                               int64\n",
       "possui_mais_dividas                        int64\n",
       "salario_mensal_log2                      float64\n",
       "dtype: object"
      ]
     },
     "execution_count": 35,
     "metadata": {},
     "output_type": "execute_result"
    }
   ],
   "source": [
    "# Tipo dos dados\n",
    "df_train.dtypes"
   ]
  },
  {
   "cell_type": "code",
   "execution_count": 36,
   "id": "numeric-architecture",
   "metadata": {},
   "outputs": [
    {
     "data": {
      "text/plain": [
       "util_linhas_inseguras                    float64\n",
       "idade                                      int64\n",
       "vezes_passou_de_30_59_dias                 int64\n",
       "razao_debito                             float64\n",
       "salario_mensal                           float64\n",
       "numero_linhas_crdto_aberto                 int64\n",
       "numero_vezes_passou_90_dias                int64\n",
       "numero_emprestimos_imobiliarios            int64\n",
       "numero_de_vezes_que_passou_60_89_dias      int64\n",
       "numero_de_dependentes                    float64\n",
       "possui_mais_dividas                        int64\n",
       "salario_mensal_log2                      float64\n",
       "dtype: object"
      ]
     },
     "execution_count": 36,
     "metadata": {},
     "output_type": "execute_result"
    }
   ],
   "source": [
    "# Tipo dos dados\n",
    "df_test.dtypes"
   ]
  },
  {
   "cell_type": "code",
   "execution_count": null,
   "id": "southwest-partner",
   "metadata": {},
   "outputs": [],
   "source": []
  }
 ],
 "metadata": {
  "kernelspec": {
   "display_name": "Python 3",
   "language": "python",
   "name": "python3"
  },
  "language_info": {
   "codemirror_mode": {
    "name": "ipython",
    "version": 3
   },
   "file_extension": ".py",
   "mimetype": "text/x-python",
   "name": "python",
   "nbconvert_exporter": "python",
   "pygments_lexer": "ipython3",
   "version": "3.8.5"
  }
 },
 "nbformat": 4,
 "nbformat_minor": 5
}
